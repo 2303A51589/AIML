{
  "nbformat": 4,
  "nbformat_minor": 0,
  "metadata": {
    "colab": {
      "provenance": [],
      "authorship_tag": "ABX9TyOqZjURV4jEg2PrO5N8lYXp",
      "include_colab_link": true
    },
    "kernelspec": {
      "name": "python3",
      "display_name": "Python 3"
    },
    "language_info": {
      "name": "python"
    }
  },
  "cells": [
    {
      "cell_type": "markdown",
      "metadata": {
        "id": "view-in-github",
        "colab_type": "text"
      },
      "source": [
        "<a href=\"https://colab.research.google.com/github/2303A51589/AIML/blob/main/assignment%202%20.ipynb\" target=\"_parent\"><img src=\"https://colab.research.google.com/assets/colab-badge.svg\" alt=\"Open In Colab\"/></a>"
      ]
    },
    {
      "cell_type": "code",
      "execution_count": 1,
      "metadata": {
        "colab": {
          "base_uri": "https://localhost:8080/"
        },
        "id": "F7jJepF5CPx5",
        "outputId": "0ffc3de4-2dd0-438d-dc5e-7ccd8fb7f193"
      },
      "outputs": [
        {
          "output_type": "stream",
          "name": "stdout",
          "text": [
            "[1 2 3 4 5]\n",
            "[1, 2, 3, 4, 5]\n",
            "3\n",
            "1\n",
            "<class 'int'>\n",
            "<class 'float'>\n",
            "<class 'str'>\n",
            "<class 'list'>\n"
          ]
        }
      ],
      "source": [
        "import numpy as np\n",
        "array_1 = np.array([1,2,3,4,5])\n",
        "print(array_1)\n",
        "List_1 =[1,2,3,4,5]\n",
        "List_2 =[6,7,8,9,10]\n",
        "print(List_1)\n",
        "print(List_1[2])\n",
        "print(List_1[0])\n",
        "x = 8\n",
        "y = 0.59\n",
        "z = \"Nishi\"\n",
        "print (type(x))\n",
        "print (type(y))\n",
        "print (type(z))\n",
        "print (type(List_1))\n"
      ]
    },
    {
      "cell_type": "code",
      "source": [
        "\n",
        "\n",
        "import numpy as np\n",
        "array_1 =np.array([7,4,8,2])\n",
        "array_2 =np.array([2,5,1,6])\n",
        "result = array_1 * array_2\n",
        "print(result)"
      ],
      "metadata": {
        "colab": {
          "base_uri": "https://localhost:8080/"
        },
        "id": "cuVbLqaZLl1c",
        "outputId": "473fcf8d-6efe-4ea4-97e8-31858317a17c"
      },
      "execution_count": 2,
      "outputs": [
        {
          "output_type": "stream",
          "name": "stdout",
          "text": [
            "[14 20  8 12]\n"
          ]
        }
      ]
    },
    {
      "cell_type": "code",
      "source": [
        "import numpy as np\n",
        "array1 = np.array([7,4,8,2])\n",
        "array2 = np.array([9,5,3,6])\n",
        "result = array1 / array2\n",
        "print(result)"
      ],
      "metadata": {
        "colab": {
          "base_uri": "https://localhost:8080/"
        },
        "id": "Vmbp1eBiLt-U",
        "outputId": "114b86b8-f68f-48c3-9332-72209a5bcb0b"
      },
      "execution_count": 3,
      "outputs": [
        {
          "output_type": "stream",
          "name": "stdout",
          "text": [
            "[0.77777778 0.8        2.66666667 0.33333333]\n"
          ]
        }
      ]
    },
    {
      "cell_type": "code",
      "source": [
        "import numpy as np\n",
        "array1 = np.array([7,4,8,2])\n",
        "array2 = np.array([9,5,3,6])\n",
        "result = array1 ** array2\n",
        "print(result)"
      ],
      "metadata": {
        "colab": {
          "base_uri": "https://localhost:8080/"
        },
        "id": "clL_IsEaL35Q",
        "outputId": "241956de-d36a-4798-c35f-e2c5d4de9e3a"
      },
      "execution_count": 4,
      "outputs": [
        {
          "output_type": "stream",
          "name": "stdout",
          "text": [
            "[40353607     1024      512       64]\n"
          ]
        }
      ]
    },
    {
      "cell_type": "code",
      "source": [
        "import numpy as np\n",
        "array1 = np.array([7,4,8,2])\n",
        "array2 = np.array([9,5,3,6])\n",
        "result = array1 + array2\n",
        "print(\"addition of 2 arrays:\",result)\n"
      ],
      "metadata": {
        "colab": {
          "base_uri": "https://localhost:8080/"
        },
        "id": "oTJhvQghL590",
        "outputId": "5e290e7a-7111-4ec9-9f09-8e4aa7233873"
      },
      "execution_count": 5,
      "outputs": [
        {
          "output_type": "stream",
          "name": "stdout",
          "text": [
            "addition of 2 arrays: [16  9 11  8]\n"
          ]
        }
      ]
    },
    {
      "cell_type": "code",
      "source": [
        "import numpy as np\n",
        "array3 = np.array([0,np.pi/2,np.pi*3])\n",
        "sinarray = np.sin(array3)\n",
        "print (sinarray)\n"
      ],
      "metadata": {
        "colab": {
          "base_uri": "https://localhost:8080/"
        },
        "id": "naCgdLw_MBES",
        "outputId": "1e5e97aa-197c-438f-810d-cfde012cc496"
      },
      "execution_count": 6,
      "outputs": [
        {
          "output_type": "stream",
          "name": "stdout",
          "text": [
            "[0.0000000e+00 1.0000000e+00 3.6739404e-16]\n"
          ]
        }
      ]
    },
    {
      "cell_type": "code",
      "source": [
        "import numpy as np\n",
        "array4 = np.array([0, np.e/2,np.e*3])\n",
        "logarray = np.log(array4)\n",
        "print (logarray)"
      ],
      "metadata": {
        "colab": {
          "base_uri": "https://localhost:8080/"
        },
        "id": "GI8TrwThMGkb",
        "outputId": "7a28915f-79f5-4a91-d832-573bae748e92"
      },
      "execution_count": 7,
      "outputs": [
        {
          "output_type": "stream",
          "name": "stdout",
          "text": [
            "[      -inf 0.30685282 2.09861229]\n"
          ]
        },
        {
          "output_type": "stream",
          "name": "stderr",
          "text": [
            "<ipython-input-7-ec63ad9f3a37>:3: RuntimeWarning: divide by zero encountered in log\n",
            "  logarray = np.log(array4)\n"
          ]
        }
      ]
    },
    {
      "cell_type": "code",
      "source": [
        "import numpy as np\n",
        "array5 = np.array([1,np.e,np.e**2,10])\n",
        "log_array = np.log(array5)\n",
        "print(log_array)"
      ],
      "metadata": {
        "colab": {
          "base_uri": "https://localhost:8080/"
        },
        "id": "lfBzuz0dMPNM",
        "outputId": "4b6e115d-b4db-497f-94ba-62ac42185970"
      },
      "execution_count": 8,
      "outputs": [
        {
          "output_type": "stream",
          "name": "stdout",
          "text": [
            "[0.         1.         2.         2.30258509]\n"
          ]
        }
      ]
    }
  ]
}